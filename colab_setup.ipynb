{
  "cells": [
    {
      "cell_type": "markdown",
      "metadata": {},
      "source": [
        "# Pokemon Showdown Gym - Google Colab Setup\n",
        "\n",
        "This notebook sets up the Pokemon Showdown Gym environment for reinforcement learning in Google Colab.\n",
        "\n",
        "## Features\n",
        "- Automatic installation of all dependencies\n",
        "- Pokemon Showdown server setup\n",
        "- Environment testing and validation\n",
        "- Ready-to-use training examples\n"
      ]
    },
    {
      "cell_type": "markdown",
      "metadata": {},
      "source": [
        "## 1. Install Dependencies\n",
        "\n",
        "First, let's install all the required packages:\n"
      ]
    },
    {
      "cell_type": "code",
      "execution_count": null,
      "metadata": {},
      "outputs": [],
      "source": [
        "# Install system dependencies\n",
        "!apt-get update\n",
        "!apt-get install -y nodejs npm\n",
        "\n",
        "# Install Python packages\n",
        "!pip install -q poke-env==0.10.0\n",
        "!pip install -q numpy==2.2.5\n",
        "!pip install -q gymnasium\n",
        "!pip install -q stable-baselines3\n",
        "!pip install -q tensorboard\n",
        "!pip install -q matplotlib\n",
        "!pip install -q seaborn\n",
        "!pip install -q pandas\n",
        "\n",
        "print(\"✅ All packages installed successfully!\")\n"
      ]
    },
    {
      "cell_type": "markdown",
      "metadata": {},
      "source": [
        "## 2. Clone and Setup Repository\n",
        "\n",
        "Clone the showdown_gym repository and install it:\n"
      ]
    },
    {
      "cell_type": "code",
      "execution_count": null,
      "metadata": {},
      "outputs": [],
      "source": [
        "# Clone the repository\n",
        "!git clone https://github.com/UoA-CARES/showdown_gym.git\n",
        "\n",
        "# Install the package in development mode\n",
        "!cd showdown_gym && pip install -e .\n",
        "\n",
        "print(\"✅ Repository cloned and installed!\")\n"
      ]
    },
    {
      "cell_type": "markdown",
      "metadata": {},
      "source": [
        "## 3. Setup Pokemon Showdown Server\n",
        "\n",
        "Install and configure the Pokemon Showdown server:\n"
      ]
    },
    {
      "cell_type": "code",
      "execution_count": null,
      "metadata": {},
      "outputs": [],
      "source": [
        "# Clone Pokemon Showdown server\n",
        "!git clone https://github.com/smogon/pokemon-showdown.git\n",
        "\n",
        "# Install dependencies\n",
        "!cd pokemon-showdown && npm install\n",
        "\n",
        "# Copy configuration\n",
        "!cd pokemon-showdown && cp config/config-example.js config/config.js\n",
        "\n",
        "print(\"✅ Pokemon Showdown server setup complete!\")\n"
      ]
    },
    {
      "cell_type": "markdown",
      "metadata": {},
      "source": [
        "## 4. Start Pokemon Showdown Server\n",
        "\n",
        "Start the server in the background:\n"
      ]
    },
    {
      "cell_type": "code",
      "execution_count": null,
      "metadata": {},
      "outputs": [],
      "source": [
        "import subprocess\n",
        "import time\n",
        "import os\n",
        "\n",
        "# Start the server in the background\n",
        "def start_showdown_server():\n",
        "    os.chdir('/content/pokemon-showdown')\n",
        "    process = subprocess.Popen(\n",
        "        ['node', 'pokemon-showdown', 'start', '--no-security'],\n",
        "        stdout=subprocess.PIPE,\n",
        "        stderr=subprocess.PIPE,\n",
        "        preexec_fn=os.setsid\n",
        "    )\n",
        "    return process\n",
        "\n",
        "# Start server\n",
        "server_process = start_showdown_server()\n",
        "\n",
        "# Wait a moment for server to start\n",
        "time.sleep(5)\n",
        "\n",
        "print(\"✅ Pokemon Showdown server started!\")\n"
      ]
    },
    {
      "cell_type": "markdown",
      "metadata": {},
      "source": [
        "## 5. Test Environment\n",
        "\n",
        "Test that the environment is working correctly:\n"
      ]
    },
    {
      "cell_type": "code",
      "execution_count": null,
      "metadata": {},
      "outputs": [],
      "source": [
        "import sys\n",
        "sys.path.append('/content/showdown_gym')\n",
        "\n",
        "from showdown_gym.showdown_environment import SingleShowdownWrapper\n",
        "import numpy as np\n",
        "\n",
        "# Test environment creation\n",
        "try:\n",
        "    env = SingleShowdownWrapper(team_type=\"random\", opponent_type=\"random\")\n",
        "    print(\"✅ Environment created successfully!\")\n",
        "    \n",
        "    # Test environment reset\n",
        "    obs = env.reset()\n",
        "    print(f\"✅ Environment reset successful!\")\n",
        "    print(f\"Observation shape: {obs.shape}\")\n",
        "    print(f\"Action space size: {env.action_space.n}\")\n",
        "    \n",
        "    # Test a random action\n",
        "    action = env.action_space.sample()\n",
        "    obs, reward, done, info = env.step(action)\n",
        "    print(f\"✅ Step successful! Reward: {reward}\")\n",
        "    \n",
        "except Exception as e:\n",
        "    print(f\"❌ Error testing environment: {e}\")\n",
        "    print(\"Make sure the Pokemon Showdown server is running!\")\n"
      ]
    },
    {
      "cell_type": "markdown",
      "metadata": {},
      "source": [
        "## 6. Training Example\n",
        "\n",
        "Here's a simple example of training an agent:\n"
      ]
    },
    {
      "cell_type": "code",
      "execution_count": null,
      "metadata": {},
      "outputs": [],
      "source": [
        "from stable_baselines3 import DQN\n",
        "from stable_baselines3.common.env_util import make_vec_env\n",
        "import matplotlib.pyplot as plt\n",
        "\n",
        "# Create vectorized environment\n",
        "def make_env():\n",
        "    return SingleShowdownWrapper(team_type=\"random\", opponent_type=\"random\")\n",
        "\n",
        "env = make_vec_env(make_env, n_envs=1)\n",
        "\n",
        "# Create DQN agent\n",
        "model = DQN(\n",
        "    \"MlpPolicy\",\n",
        "    env,\n",
        "    verbose=1,\n",
        "    learning_rate=0.001,\n",
        "    buffer_size=10000,\n",
        "    learning_starts=1000,\n",
        "    batch_size=32,\n",
        "    tau=1.0,\n",
        "    gamma=0.99,\n",
        "    train_freq=4,\n",
        "    target_update_interval=1000\n",
        ")\n",
        "\n",
        "print(\"✅ DQN model created successfully!\")\n",
        "print(\"You can now train the model with: model.learn(total_timesteps=10000)\")\n"
      ]
    }
  ],
  "metadata": {
    "language_info": {
      "name": "python"
    }
  },
  "nbformat": 4,
  "nbformat_minor": 2
}
