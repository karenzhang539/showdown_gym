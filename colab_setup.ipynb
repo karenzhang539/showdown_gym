{
  "cells": [
    {
      "cell_type": "markdown",
      "metadata": {},
      "source": [
        "# Pokemon Showdown Gym - Google Colab Setup\n",
        "\n",
        "This notebook sets up the Pokemon Showdown Gym environment for reinforcement learning in Google Colab.\n",
        "\n",
        "## Features\n",
        "- Automatic installation of all dependencies\n",
        "- Pokemon Showdown server setup\n",
        "- Environment testing and validation\n",
        "- Ready-to-use training examples\n"
      ]
    },
    {
      "cell_type": "markdown",
      "metadata": {},
      "source": [
        "## 1. Install Dependencies\n",
        "\n",
        "First, let's install all the required packages:\n"
      ]
    },
    {
      "cell_type": "code",
      "execution_count": null,
      "metadata": {},
      "outputs": [],
      "source": [
        "# Install system dependencies\n",
        "!apt-get update\n",
        "!apt-get install -y nodejs npm\n",
        "\n",
        "# Install Python packages (following README.md requirements)\n",
        "!pip install -q poke-env==0.10.0\n",
        "!pip install -q numpy==2.2.5\n",
        "!pip install -q gymnasium\n",
        "!pip install -q stable-baselines3\n",
        "!pip install -q tensorboard\n",
        "!pip install -q matplotlib\n",
        "!pip install -q seaborn\n",
        "!pip install -q pandas\n",
        "!pip install -q requests  # For server health checks\n",
        "\n",
        "# Install additional packages mentioned in README.md\n",
        "!pip install -q pipreqs  # For requirements.txt generation\n",
        "\n",
        "print(\"✅ All packages installed successfully!\")\n",
        "print(\"📝 Following README.md installation requirements\")\n"
      ]
    },
    {
      "cell_type": "markdown",
      "metadata": {},
      "source": [
        "## 2. Clone and Setup Repository\n",
        "\n",
        "Clone the showdown_gym repository and install it:\n"
      ]
    },
    {
      "cell_type": "code",
      "execution_count": null,
      "metadata": {},
      "outputs": [],
      "source": [
        "# Clone the repository\n",
        "!git clone https://github.com/UoA-CARES/showdown_gym.git\n",
        "\n",
        "# Install the package in development mode\n",
        "!cd showdown_gym && pip install -e .\n",
        "\n",
        "print(\"✅ Repository cloned and installed!\")\n"
      ]
    },
    {
      "cell_type": "markdown",
      "metadata": {},
      "source": [
        "## 2.1. Install Additional Dependencies (README.md Requirements)\n",
        "\n",
        "Install the additional packages mentioned in README.md:\n"
      ]
    },
    {
      "cell_type": "code",
      "execution_count": null,
      "metadata": {},
      "outputs": [],
      "source": [
        "# Install cares_reinforcement_learning (as per README.md)\n",
        "!git clone https://github.com/UoA-CARES/cares_reinforcement_learning.git\n",
        "!cd cares_reinforcement_learning && pip install -r requirements.txt\n",
        "!cd cares_reinforcement_learning && pip install -e .\n",
        "\n",
        "# Install gymnasium_environments (as per README.md)\n",
        "!git clone https://github.com/UoA-CARES/gymnasium_envrionments.git\n",
        "!cd gymnasium_envrionments && pip install -r requirements.txt\n",
        "\n",
        "print(\"✅ Additional dependencies installed!\")\n",
        "print(\"📝 Following README.md package installation order\")\n"
      ]
    },
    {
      "cell_type": "markdown",
      "metadata": {},
      "source": [
        "## 3. Setup Pokemon Showdown Server\n",
        "\n",
        "Install and configure the Pokemon Showdown server (following README.md instructions):\n"
      ]
    },
    {
      "cell_type": "code",
      "execution_count": null,
      "metadata": {},
      "outputs": [],
      "source": [
        "# Clone Pokemon Showdown server (following README.md instructions)\n",
        "!git clone https://github.com/smogon/pokemon-showdown.git\n",
        "\n",
        "# Install dependencies\n",
        "!cd pokemon-showdown && npm install\n",
        "\n",
        "# Copy configuration (as specified in README.md)\n",
        "!cd pokemon-showdown && cp config/config-example.js config/config.js\n",
        "\n",
        "print(\"✅ Pokemon Showdown server setup complete!\")\n",
        "print(\"📝 Note: Server must be running for environment to work (as per README.md)\")\n"
      ]
    },
    {
      "cell_type": "markdown",
      "metadata": {},
      "source": [
        "## 4. Start Pokemon Showdown Server\n",
        "\n",
        "Start the server in the background:\n"
      ]
    },
    {
      "cell_type": "code",
      "execution_count": null,
      "metadata": {},
      "outputs": [],
      "source": [
        "import subprocess\n",
        "import time\n",
        "import os\n",
        "import threading\n",
        "import requests\n",
        "\n",
        "# Start the server in the background (following README.md instructions)\n",
        "def start_showdown_server():\n",
        "    os.chdir('/content/pokemon-showdown')\n",
        "    process = subprocess.Popen(\n",
        "        ['node', 'pokemon-showdown', 'start', '--no-security'],\n",
        "        stdout=subprocess.PIPE,\n",
        "        stderr=subprocess.PIPE,\n",
        "        preexec_fn=os.setsid\n",
        "    )\n",
        "    return process\n",
        "\n",
        "# Function to check if server is running\n",
        "def check_server_running():\n",
        "    try:\n",
        "        response = requests.get('http://localhost:8000', timeout=5)\n",
        "        return response.status_code == 200\n",
        "    except:\n",
        "        return False\n",
        "\n",
        "# Start server\n",
        "print(\"🚀 Starting Pokemon Showdown server...\")\n",
        "server_process = start_showdown_server()\n",
        "\n",
        "# Wait for server to start and verify it's running\n",
        "print(\"⏳ Waiting for server to start...\")\n",
        "for i in range(30):  # Wait up to 30 seconds\n",
        "    time.sleep(1)\n",
        "    if check_server_running():\n",
        "        print(\"✅ Pokemon Showdown server started successfully!\")\n",
        "        print(\"🌐 Server is running on http://localhost:8000\")\n",
        "        break\n",
        "    print(f\"⏳ Still waiting... ({i+1}/30)\")\n",
        "else:\n",
        "    print(\"❌ Server failed to start within 30 seconds\")\n",
        "    print(\"💡 Try restarting the runtime and running this cell again\")\n"
      ]
    },
    {
      "cell_type": "markdown",
      "metadata": {},
      "source": [
        "## 5. Test Environment\n",
        "\n",
        "Test that the environment is working correctly:\n"
      ]
    },
    {
      "cell_type": "markdown",
      "metadata": {},
      "source": [
        "## 6.1. Test with README.md Training Command\n",
        "\n",
        "Test the environment using the exact command from README.md:\n"
      ]
    },
    {
      "cell_type": "code",
      "execution_count": null,
      "metadata": {},
      "outputs": [],
      "source": [
        "# Test with the exact command from README.md\n",
        "# This follows the README.md instructions for testing the environment\n",
        "\n",
        "import os\n",
        "import sys\n",
        "\n",
        "# Add the gymnasium_environments to path\n",
        "sys.path.append('/content/gymnasium_envrionments')\n",
        "\n",
        "# Test the environment using README.md command\n",
        "print(\"🧪 Testing environment with README.md command...\")\n",
        "print(\"Command: python run.py train cli --gym showdown --domain random --task max DQN\")\n",
        "\n",
        "# Change to the gymnasium_environments directory\n",
        "os.chdir('/content/gymnasium_envrionments/scripts')\n",
        "\n",
        "# Run the test command from README.md\n",
        "!python run.py train cli --gym showdown --domain random --task max DQN --display 0\n",
        "\n",
        "print(\"✅ README.md training command test completed!\")\n"
      ]
    },
    {
      "cell_type": "code",
      "execution_count": null,
      "metadata": {},
      "outputs": [],
      "source": [
        "import sys\n",
        "sys.path.append('/content/showdown_gym')\n",
        "\n",
        "from showdown_gym.showdown_environment import SingleShowdownWrapper\n",
        "import numpy as np\n",
        "\n",
        "# Test environment creation\n",
        "try:\n",
        "    env = SingleShowdownWrapper(team_type=\"random\", opponent_type=\"random\")\n",
        "    print(\"✅ Environment created successfully!\")\n",
        "    \n",
        "    # Test environment reset\n",
        "    obs = env.reset()\n",
        "    print(f\"✅ Environment reset successful!\")\n",
        "    print(f\"Observation shape: {obs.shape}\")\n",
        "    print(f\"Action space size: {env.action_space.n}\")\n",
        "    \n",
        "    # Test a random action\n",
        "    action = env.action_space.sample()\n",
        "    obs, reward, done, info = env.step(action)\n",
        "    print(f\"✅ Step successful! Reward: {reward}\")\n",
        "    \n",
        "except Exception as e:\n",
        "    print(f\"❌ Error testing environment: {e}\")\n",
        "    print(\"Make sure the Pokemon Showdown server is running!\")\n"
      ]
    },
    {
      "cell_type": "markdown",
      "metadata": {},
      "source": [
        "## 6. Training Example\n",
        "\n",
        "Here's a simple example of training an agent:\n"
      ]
    },
    {
      "cell_type": "code",
      "execution_count": null,
      "metadata": {},
      "outputs": [],
      "source": [
        "from stable_baselines3 import DQN\n",
        "from stable_baselines3.common.env_util import make_vec_env\n",
        "import matplotlib.pyplot as plt\n",
        "\n",
        "# Create vectorized environment\n",
        "def make_env():\n",
        "    return SingleShowdownWrapper(team_type=\"random\", opponent_type=\"random\")\n",
        "\n",
        "env = make_vec_env(make_env, n_envs=1)\n",
        "\n",
        "# Create DQN agent\n",
        "model = DQN(\n",
        "    \"MlpPolicy\",\n",
        "    env,\n",
        "    verbose=1,\n",
        "    learning_rate=0.001,\n",
        "    buffer_size=10000,\n",
        "    learning_starts=1000,\n",
        "    batch_size=32,\n",
        "    tau=1.0,\n",
        "    gamma=0.99,\n",
        "    train_freq=4,\n",
        "    target_update_interval=1000\n",
        ")\n",
        "\n",
        "print(\"✅ DQN model created successfully!\")\n",
        "print(\"You can now train the model with: model.learn(total_timesteps=10000)\")\n"
      ]
    }
  ],
  "metadata": {
    "language_info": {
      "name": "python"
    }
  },
  "nbformat": 4,
  "nbformat_minor": 2
}
